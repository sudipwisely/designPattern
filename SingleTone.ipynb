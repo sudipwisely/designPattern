{
  "nbformat": 4,
  "nbformat_minor": 0,
  "metadata": {
    "colab": {
      "provenance": [],
      "authorship_tag": "ABX9TyOHsQemmaP8LsKln4IpGbu0",
      "include_colab_link": true
    },
    "kernelspec": {
      "name": "python3",
      "display_name": "Python 3"
    },
    "language_info": {
      "name": "python"
    }
  },
  "cells": [
    {
      "cell_type": "markdown",
      "metadata": {
        "id": "view-in-github",
        "colab_type": "text"
      },
      "source": [
        "<a href=\"https://colab.research.google.com/github/sudipwisely/designPattern/blob/master/SingleTone.ipynb\" target=\"_parent\"><img src=\"https://colab.research.google.com/assets/colab-badge.svg\" alt=\"Open In Colab\"/></a>"
      ]
    },
    {
      "cell_type": "markdown",
      "source": [
        "**Borg Singleton**"
      ],
      "metadata": {
        "id": "Ru3BNpj-ORZq"
      }
    },
    {
      "cell_type": "code",
      "source": [
        "class Borg:\n",
        "  __shared_state = dict()\n",
        "\n",
        "  def __init__(self):\n",
        "    self.__dict__ = self.__shared_state\n",
        "    self.state = \"Default Value\"\n",
        "\n",
        "  def __str__(self):\n",
        "    return self.state"
      ],
      "metadata": {
        "id": "hv4y01hq6P_m"
      },
      "execution_count": null,
      "outputs": []
    },
    {
      "cell_type": "code",
      "source": [
        "obj1 = Borg()\n",
        "obj1.state = \"First Value\"\n",
        "print(obj1)\n",
        "\n",
        "obj2 = Borg()\n",
        "obj2.state = \"Second Value\"\n",
        "\n",
        "print(obj1)\n",
        "print(obj2)"
      ],
      "metadata": {
        "colab": {
          "base_uri": "https://localhost:8080/"
        },
        "id": "jp0w2qAk8ZMQ",
        "outputId": "eb939397-4107-49dd-f920-7657ffc98d20"
      },
      "execution_count": null,
      "outputs": [
        {
          "output_type": "stream",
          "name": "stdout",
          "text": [
            "First Value\n",
            "Second Value\n",
            "Second Value\n"
          ]
        }
      ]
    },
    {
      "cell_type": "markdown",
      "source": [
        "Classic Singleton"
      ],
      "metadata": {
        "id": "7N5UDOxeBeXj"
      }
    },
    {
      "cell_type": "code",
      "source": [
        "class Metaclass(type):\n",
        "  __instance = dict()\n",
        "\n",
        "  def __call__(cls,*args,**kwargs):\n",
        "    if cls not in cls.__instance:\n",
        "      cls.__instance[cls] = super(Metaclass, cls).__call__(*args,**kwargs)\n",
        "      return cls.__instance[cls]\n",
        "    else:\n",
        "      return cls.__instance[cls]\n",
        "\n",
        "\n",
        "class singletoneA(metaclass=Metaclass):\n",
        "  def __init__(self):\n",
        "    pass"
      ],
      "metadata": {
        "id": "tWRQ3R3RIh8q"
      },
      "execution_count": 14,
      "outputs": []
    },
    {
      "cell_type": "code",
      "source": [
        "object1 = singletoneA()\n",
        "print(object1)\n",
        "object2 = singletoneA()\n",
        "print(object2)"
      ],
      "metadata": {
        "colab": {
          "base_uri": "https://localhost:8080/"
        },
        "id": "VT68uC1fSslJ",
        "outputId": "c26cdb46-a946-4f3d-abe0-eca1a10c6316"
      },
      "execution_count": 15,
      "outputs": [
        {
          "output_type": "stream",
          "name": "stdout",
          "text": [
            "<__main__.singletoneA object at 0x7ac32d327b20>\n",
            "<__main__.singletoneA object at 0x7ac32d327b20>\n"
          ]
        }
      ]
    },
    {
      "cell_type": "code",
      "source": [
        "class SingleTon:\n",
        "  __instance = None\n",
        "  def __init__(self):\n",
        "    if self.__instance != None:\n",
        "      raise Exception(\"object already created\")\n",
        "    else:\n",
        "      self.__instance = self\n",
        "\n",
        "  @staticmethod\n",
        "  def getInstance():\n",
        "    if SingleTon.__instance == None:\n",
        "      SingleTon.__instance = SingleTon()\n",
        "    return SingleTon.__instance\n",
        "\n"
      ],
      "metadata": {
        "id": "j5HJrDfvSxC9"
      },
      "execution_count": 24,
      "outputs": []
    },
    {
      "cell_type": "code",
      "source": [
        "objt1 = SingleTon.getInstance()\n",
        "print(objt1)\n",
        "objt2 = SingleTon.getInstance()\n",
        "print(objt2)"
      ],
      "metadata": {
        "colab": {
          "base_uri": "https://localhost:8080/"
        },
        "id": "v9JZ1D6jlVuP",
        "outputId": "fc062848-8621-4ca5-856a-45d5468bece9"
      },
      "execution_count": 25,
      "outputs": [
        {
          "output_type": "stream",
          "name": "stdout",
          "text": [
            "<__main__.SingleTon object at 0x7ac31c34f1c0>\n",
            "<__main__.SingleTon object at 0x7ac31c34f1c0>\n"
          ]
        }
      ]
    }
  ]
}