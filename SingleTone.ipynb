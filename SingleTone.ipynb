{
  "nbformat": 4,
  "nbformat_minor": 0,
  "metadata": {
    "colab": {
      "provenance": [],
      "authorship_tag": "ABX9TyN/T409c+NMD7CXRqaoY+FM",
      "include_colab_link": true
    },
    "kernelspec": {
      "name": "python3",
      "display_name": "Python 3"
    },
    "language_info": {
      "name": "python"
    }
  },
  "cells": [
    {
      "cell_type": "markdown",
      "metadata": {
        "id": "view-in-github",
        "colab_type": "text"
      },
      "source": [
        "<a href=\"https://colab.research.google.com/github/sudipwisely/designPattern/blob/master/SingleTone.ipynb\" target=\"_parent\"><img src=\"https://colab.research.google.com/assets/colab-badge.svg\" alt=\"Open In Colab\"/></a>"
      ]
    },
    {
      "cell_type": "code",
      "execution_count": 9,
      "metadata": {
        "id": "DKBugbCKtRAK"
      },
      "outputs": [],
      "source": [
        "class Borg:\n",
        "  __shared_state=dict()\n",
        "\n",
        "  def __init__(self):\n",
        "    self.__dict__ = self.__shared_state\n",
        "    self.state = \"Sudip\"\n",
        "\n",
        "  def __str__(self):\n",
        "    return self.state"
      ]
    },
    {
      "cell_type": "code",
      "source": [
        "person1 = Borg()    # object of class Borg\n",
        "person2 = Borg()    # object of class Borg\n",
        "person3 = Borg()    # object of class Borg\n",
        "\n",
        "person1.state = 'DataStructures'\n",
        "print(person1)\n",
        "\n",
        "person2.state = 'Algorithms'\n",
        "print(person1)\n",
        "print(person2)\n",
        "\n",
        "person3.state = \"SQL\"\n",
        "print(person1)\n",
        "print(person2)\n",
        "print(person3)\n"
      ],
      "metadata": {
        "colab": {
          "base_uri": "https://localhost:8080/"
        },
        "id": "uhNykEYrtq4F",
        "outputId": "1527fa9e-2fea-42b6-f337-a3db51faa1f3"
      },
      "execution_count": 11,
      "outputs": [
        {
          "output_type": "stream",
          "name": "stdout",
          "text": [
            "DataStructures\n",
            "Algorithms\n",
            "Algorithms\n",
            "SQL\n",
            "SQL\n",
            "SQL\n"
          ]
        }
      ]
    },
    {
      "cell_type": "code",
      "source": [],
      "metadata": {
        "id": "e1DCBAP4yXQV"
      },
      "execution_count": null,
      "outputs": []
    }
  ]
}