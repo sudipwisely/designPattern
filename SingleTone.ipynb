{
  "nbformat": 4,
  "nbformat_minor": 0,
  "metadata": {
    "colab": {
      "provenance": [],
      "authorship_tag": "ABX9TyPDmB8WPyX4/5utndlY4IPg",
      "include_colab_link": true
    },
    "kernelspec": {
      "name": "python3",
      "display_name": "Python 3"
    },
    "language_info": {
      "name": "python"
    }
  },
  "cells": [
    {
      "cell_type": "markdown",
      "metadata": {
        "id": "view-in-github",
        "colab_type": "text"
      },
      "source": [
        "<a href=\"https://colab.research.google.com/github/sudipwisely/designPattern/blob/master/SingleTone.ipynb\" target=\"_parent\"><img src=\"https://colab.research.google.com/assets/colab-badge.svg\" alt=\"Open In Colab\"/></a>"
      ]
    },
    {
      "cell_type": "code",
      "execution_count": 31,
      "metadata": {
        "id": "DKBugbCKtRAK"
      },
      "outputs": [],
      "source": [
        "class Borg:\n",
        "  __shared_state = dict()\n",
        "  def __init__(self):\n",
        "    self.__dict__ = self.__shared_state\n",
        "    self.state = \"DefaultValue\"\n",
        "  def __str__(self):\n",
        "    return self.state"
      ]
    },
    {
      "cell_type": "code",
      "source": [
        "obj1 = Borg()\n",
        "obj1.state = \"First value\"\n",
        "print(obj1)\n",
        "print(\"********************\")\n",
        "\n",
        "obj2 = Borg()\n",
        "obj2.state = \"Second Value\"\n",
        "print(obj1)\n",
        "print(obj2)\n",
        "print(\"&&&&&&&&&&&&&&&&&&&&&&\")\n",
        "\n",
        "obj3 = Borg()\n",
        "obj3.state = \"Third Value\"\n",
        "print(obj1)\n",
        "print(obj2)\n",
        "print(obj3)"
      ],
      "metadata": {
        "colab": {
          "base_uri": "https://localhost:8080/"
        },
        "id": "uhNykEYrtq4F",
        "outputId": "eb5b23aa-5f68-4226-efe9-b4cd11b862dd"
      },
      "execution_count": 32,
      "outputs": [
        {
          "output_type": "stream",
          "name": "stdout",
          "text": [
            "First value\n",
            "********************\n",
            "Second Value\n",
            "Second Value\n",
            "&&&&&&&&&&&&&&&&&&&&&&\n",
            "Third Value\n",
            "Third Value\n",
            "Third Value\n"
          ]
        }
      ]
    },
    {
      "cell_type": "code",
      "source": [],
      "metadata": {
        "id": "yCuxkGBAzs5p"
      },
      "execution_count": null,
      "outputs": []
    },
    {
      "cell_type": "code",
      "source": [],
      "metadata": {
        "id": "e1DCBAP4yXQV"
      },
      "execution_count": null,
      "outputs": []
    }
  ]
}